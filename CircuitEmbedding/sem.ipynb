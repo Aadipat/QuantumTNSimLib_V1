{
 "cells": [
  {
   "cell_type": "code",
   "execution_count": 1,
   "metadata": {},
   "outputs": [
    {
     "name": "stdout",
     "output_type": "stream",
     "text": [
      "WARNING:tensorflow:From c:\\Users\\aadik\\qspace\\Lib\\site-packages\\tf_keras\\src\\losses.py:2976: The name tf.losses.sparse_softmax_cross_entropy is deprecated. Please use tf.compat.v1.losses.sparse_softmax_cross_entropy instead.\n",
      "\n",
      "WARNING:tensorflow:From c:\\Users\\aadik\\qspace\\Lib\\site-packages\\tensorflow_hub\\resolver.py:120: The name tf.gfile.MakeDirs is deprecated. Please use tf.io.gfile.makedirs instead.\n",
      "\n"
     ]
    },
    {
     "name": "stderr",
     "output_type": "stream",
     "text": [
      "WARNING:tensorflow:From c:\\Users\\aadik\\qspace\\Lib\\site-packages\\tensorflow_hub\\resolver.py:120: The name tf.gfile.MakeDirs is deprecated. Please use tf.io.gfile.makedirs instead.\n",
      "\n"
     ]
    },
    {
     "name": "stdout",
     "output_type": "stream",
     "text": [
      "WARNING:tensorflow:From c:\\Users\\aadik\\qspace\\Lib\\site-packages\\tensorflow_hub\\module_v2.py:126: The name tf.saved_model.load_v2 is deprecated. Please use tf.compat.v2.saved_model.load instead.\n",
      "\n"
     ]
    },
    {
     "name": "stderr",
     "output_type": "stream",
     "text": [
      "WARNING:tensorflow:From c:\\Users\\aadik\\qspace\\Lib\\site-packages\\tensorflow_hub\\module_v2.py:126: The name tf.saved_model.load_v2 is deprecated. Please use tf.compat.v2.saved_model.load instead.\n",
      "\n"
     ]
    }
   ],
   "source": [
    "from sentence_transformers import SentenceTransformer\n",
    "\n",
    "# 1. Load a pretrained Sentence Transformer model\n",
    "modelLM = SentenceTransformer(\"all-MiniLM-L6-v2\")\n",
    "\n",
    "from sklearn.preprocessing import StandardScaler\n",
    "sc = StandardScaler()\n",
    "\n",
    "import tensorflow as tf\n",
    "import tensorflow_hub as hub\n",
    "import numpy as np\n",
    "\n",
    "module_url = \"https://tfhub.dev/google/universal-sentence-encoder/4\"\n",
    "modelUSE = hub.load(module_url)"
   ]
  },
  {
   "cell_type": "code",
   "execution_count": 25,
   "metadata": {},
   "outputs": [],
   "source": [
    "from qtn_sim import *\n",
    "\n",
    "\n",
    "circuit1 = QCircuit()\n",
    "circuit1.addGate(HGate(), [0])\n",
    "circuit1.addGate(CNOTGate(), [0,1])\n",
    "circuit1.addGate(XGate(), [1])\n",
    "\n",
    "circuit2 = QCircuit()\n",
    "circuit2.addGate(HGate(), [0])\n",
    "\n",
    "circuit3 = QCircuit()\n",
    "circuit3.addGate(CNOTGate(), [0,1])\n",
    "circuit3.addGate(XGate(), [1])\n",
    "\n",
    "circuit4 = QCircuit()\n",
    "circuit4.addGate(TOFFOLIGate(), [0,1,2])\n",
    "\n",
    "circuits = [circuit1, circuit2, circuit3, circuit4]"
   ]
  },
  {
   "cell_type": "code",
   "execution_count": 26,
   "metadata": {},
   "outputs": [
    {
     "name": "stdout",
     "output_type": "stream",
     "text": [
      "Pairwise dist\n",
      "[[0.         0.70889982 0.85483866 1.30441326]\n",
      " [0.70889982 0.         1.8566337  1.95847407]\n",
      " [0.85483866 1.8566337  0.         1.06119021]\n",
      " [1.30441326 1.95847407 1.06119021 0.        ]]\n",
      "PCA 3 components\n",
      "[[-0.25565307 -0.19607227  0.35945376]\n",
      " [-0.75750262  0.17794213 -0.20371592]\n",
      " [ 0.4307547  -0.4886776  -0.18649968]\n",
      " [ 0.58240099  0.50680773  0.03076184]]\n",
      "First circuit\n",
      "[-0.25565307 -0.19607227  0.35945376]\n",
      "Sum of both c1 and c2\n",
      "[-0.32674792 -0.31073547 -0.3902156 ]\n",
      "Dist from first circuit to sum of 2nd and 3rd \n",
      "0.7617127244924297\n",
      "1.1421091284035807\n"
     ]
    }
   ],
   "source": [
    "c = [modelUSE([circ.toString()]).numpy()[0] for circ in circuits]\n",
    "\n",
    "from sklearn.metrics.pairwise import pairwise_distances\n",
    "\n",
    "print(\"Pairwise dist\")\n",
    "print(pairwise_distances(c, metric='sqeuclidean'))\n",
    "\n",
    "\n",
    "from sklearn.decomposition import PCA\n",
    "pca = PCA(n_components=3)\n",
    "x = pca.fit_transform(c)\n",
    "\n",
    "print(\"PCA 3 components\")\n",
    "print(x)\n",
    "\n",
    "print(\"First circuit\")\n",
    "print(x[0])\n",
    "print(\"Sum of both c1 and c2\")\n",
    "print(x[1]+ x[2])\n",
    "\n",
    "print(\"Dist from first circuit to sum of 2nd and 3rd \")\n",
    "print(np.linalg.norm(x[0] - (x[1]+x[2])))\n",
    "print(np.linalg.norm(x[0] - x[3]))\n",
    "\n",
    "x = c"
   ]
  },
  {
   "cell_type": "code",
   "execution_count": null,
   "metadata": {},
   "outputs": [
    {
     "name": "stdout",
     "output_type": "stream",
     "text": [
      "tf.Tensor([ 0.01090853 -0.06033376], shape=(2,), dtype=float32)\n",
      "tf.Tensor([-0.03178316 -0.11530195], shape=(2,), dtype=float32)\n",
      "1.0812609\n",
      "1.3575324\n"
     ]
    }
   ],
   "source": [
    "# print(x)\n",
    "\n",
    "print(x[0][:2])\n",
    "print(x[1][:2] + x[2][:2])\n",
    "\n",
    "print(np.linalg.norm(x[0].numpy() - (x[1].numpy()+x[2].numpy())))\n",
    "print(np.linalg.norm(x[0].numpy() - x[3].numpy()))\n"
   ]
  }
 ],
 "metadata": {
  "kernelspec": {
   "display_name": "qspace",
   "language": "python",
   "name": "python3"
  },
  "language_info": {
   "codemirror_mode": {
    "name": "ipython",
    "version": 3
   },
   "file_extension": ".py",
   "mimetype": "text/x-python",
   "name": "python",
   "nbconvert_exporter": "python",
   "pygments_lexer": "ipython3",
   "version": "3.12.9"
  }
 },
 "nbformat": 4,
 "nbformat_minor": 2
}
