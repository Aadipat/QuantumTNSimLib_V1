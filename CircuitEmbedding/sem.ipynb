{
 "cells": [
  {
   "cell_type": "code",
   "execution_count": 1,
   "metadata": {},
   "outputs": [
    {
     "name": "stdout",
     "output_type": "stream",
     "text": [
      "WARNING:tensorflow:From c:\\Users\\aadik\\qspace\\Lib\\site-packages\\tf_keras\\src\\losses.py:2976: The name tf.losses.sparse_softmax_cross_entropy is deprecated. Please use tf.compat.v1.losses.sparse_softmax_cross_entropy instead.\n",
      "\n",
      "WARNING:tensorflow:From c:\\Users\\aadik\\qspace\\Lib\\site-packages\\tensorflow_hub\\resolver.py:120: The name tf.gfile.MakeDirs is deprecated. Please use tf.io.gfile.makedirs instead.\n",
      "\n"
     ]
    },
    {
     "name": "stderr",
     "output_type": "stream",
     "text": [
      "WARNING:tensorflow:From c:\\Users\\aadik\\qspace\\Lib\\site-packages\\tensorflow_hub\\resolver.py:120: The name tf.gfile.MakeDirs is deprecated. Please use tf.io.gfile.makedirs instead.\n",
      "\n"
     ]
    },
    {
     "name": "stdout",
     "output_type": "stream",
     "text": [
      "WARNING:tensorflow:From c:\\Users\\aadik\\qspace\\Lib\\site-packages\\tensorflow_hub\\module_v2.py:126: The name tf.saved_model.load_v2 is deprecated. Please use tf.compat.v2.saved_model.load instead.\n",
      "\n"
     ]
    },
    {
     "name": "stderr",
     "output_type": "stream",
     "text": [
      "WARNING:tensorflow:From c:\\Users\\aadik\\qspace\\Lib\\site-packages\\tensorflow_hub\\module_v2.py:126: The name tf.saved_model.load_v2 is deprecated. Please use tf.compat.v2.saved_model.load instead.\n",
      "\n"
     ]
    }
   ],
   "source": [
    "from sentence_transformers import SentenceTransformer\n",
    "\n",
    "# 1. Load a pretrained Sentence Transformer model\n",
    "modelLM = SentenceTransformer(\"all-MiniLM-L6-v2\")\n",
    "\n",
    "from sklearn.preprocessing import StandardScaler\n",
    "sc = StandardScaler()\n",
    "\n",
    "import tensorflow as tf\n",
    "import tensorflow_hub as hub\n",
    "import numpy as np\n",
    "\n",
    "module_url = \"https://tfhub.dev/google/universal-sentence-encoder/4\"\n",
    "modelUSE = hub.load(module_url)"
   ]
  },
  {
   "cell_type": "code",
   "execution_count": 10,
   "metadata": {},
   "outputs": [],
   "source": [
    "from qtn_sim import *\n",
    "\n",
    "\n",
    "circuit1 = QCircuit()\n",
    "circuit1.addGate(HGate(), [0])\n",
    "circuit1.addGate(CNOTGate(), [0,1])\n",
    "circuit1.addGate(XGate(), [1])\n",
    "\n",
    "circuit2 = QCircuit()\n",
    "circuit2.addGate(HGate(), [0])\n",
    "\n",
    "circuit3 = QCircuit()\n",
    "circuit3.addGate(CNOTGate(), [0,1])\n",
    "circuit3.addGate(XGate(), [1])\n",
    "\n",
    "circuit4 = QCircuit()\n",
    "circuit4.addGate(TOFFOLIGate(), [0,1,2])\n",
    "\n",
    "circuits = [circuit1, circuit2, circuit3, circuit4]"
   ]
  },
  {
   "cell_type": "code",
   "execution_count": 13,
   "metadata": {},
   "outputs": [
    {
     "name": "stdout",
     "output_type": "stream",
     "text": [
      "Pairwise dist\n",
      "[[0.         0.70889982 0.85483866 1.30441326]\n",
      " [0.70889982 0.         1.8566337  1.95847407]\n",
      " [0.85483866 1.8566337  0.         1.06119021]\n",
      " [1.30441326 1.95847407 1.06119021 0.        ]]\n",
      "[[-0.25565307 -0.19607227  0.35945376]\n",
      " [-0.75750262  0.17794213 -0.20371592]\n",
      " [ 0.4307547  -0.4886776  -0.18649968]\n",
      " [ 0.58240099  0.50680773  0.03076184]]\n",
      "PCA 3 components\n",
      "[[-0.25565307 -0.19607227  0.35945376]\n",
      " [-0.75750262  0.17794213 -0.20371592]\n",
      " [ 0.4307547  -0.4886776  -0.18649968]\n",
      " [ 0.58240099  0.50680773  0.03076184]]\n",
      "First circuit\n",
      "[-0.25565307 -0.19607227  0.35945376]\n",
      "Sum of both c1 and c2\n",
      "[-0.32674792 -0.31073547 -0.3902156 ]\n",
      "Dist from first circuit to sum of 2nd and 3rd \n",
      "0.7617127244924289\n",
      "1.1421091284035807\n"
     ]
    }
   ],
   "source": [
    "c = [modelUSE([circ.toString()]).numpy()[0] for circ in circuits]\n",
    "\n",
    "from sklearn.metrics.pairwise import pairwise_distances\n",
    "\n",
    "print(\"Pairwise dist\")\n",
    "print(pairwise_distances(c, metric='sqeuclidean'))\n",
    "\n",
    "\n",
    "from sklearn.decomposition import PCA\n",
    "pca = PCA(n_components=3)\n",
    "x = pca.fit_transform(c)\n",
    "\n",
    "print(x)\n",
    "\n",
    "print(\"PCA 3 components\")\n",
    "print(x)\n",
    "\n",
    "print(\"First circuit\")\n",
    "print(x[0])\n",
    "print(\"Sum of both c1 and c2\")\n",
    "print(x[1]+ x[2])\n",
    "\n",
    "print(\"Dist from first circuit to sum of 2nd and 3rd \")\n",
    "print(np.linalg.norm(x[0] - (x[1]+x[2])))\n",
    "print(np.linalg.norm(x[0] - x[3]))\n",
    "\n",
    "x = c"
   ]
  },
  {
   "cell_type": "code",
   "execution_count": 12,
   "metadata": {},
   "outputs": [
    {
     "name": "stdout",
     "output_type": "stream",
     "text": [
      "[-0.0007877 -0.0558197]\n",
      "[-0.03287665 -0.10648857]\n"
     ]
    },
    {
     "ename": "AttributeError",
     "evalue": "'numpy.ndarray' object has no attribute 'numpy'",
     "output_type": "error",
     "traceback": [
      "\u001b[1;31m---------------------------------------------------------------------------\u001b[0m",
      "\u001b[1;31mAttributeError\u001b[0m                            Traceback (most recent call last)",
      "Cell \u001b[1;32mIn[12], line 6\u001b[0m\n\u001b[0;32m      3\u001b[0m \u001b[38;5;28mprint\u001b[39m(x[\u001b[38;5;241m0\u001b[39m][:\u001b[38;5;241m2\u001b[39m])\n\u001b[0;32m      4\u001b[0m \u001b[38;5;28mprint\u001b[39m(x[\u001b[38;5;241m1\u001b[39m][:\u001b[38;5;241m2\u001b[39m] \u001b[38;5;241m+\u001b[39m x[\u001b[38;5;241m2\u001b[39m][:\u001b[38;5;241m2\u001b[39m])\n\u001b[1;32m----> 6\u001b[0m \u001b[38;5;28mprint\u001b[39m(np\u001b[38;5;241m.\u001b[39mlinalg\u001b[38;5;241m.\u001b[39mnorm(\u001b[43mx\u001b[49m\u001b[43m[\u001b[49m\u001b[38;5;241;43m0\u001b[39;49m\u001b[43m]\u001b[49m\u001b[38;5;241;43m.\u001b[39;49m\u001b[43mnumpy\u001b[49m() \u001b[38;5;241m-\u001b[39m (x[\u001b[38;5;241m1\u001b[39m]\u001b[38;5;241m.\u001b[39mnumpy()\u001b[38;5;241m+\u001b[39mx[\u001b[38;5;241m2\u001b[39m]\u001b[38;5;241m.\u001b[39mnumpy())))\n\u001b[0;32m      7\u001b[0m \u001b[38;5;28mprint\u001b[39m(np\u001b[38;5;241m.\u001b[39mlinalg\u001b[38;5;241m.\u001b[39mnorm(x[\u001b[38;5;241m0\u001b[39m]\u001b[38;5;241m.\u001b[39mnumpy() \u001b[38;5;241m-\u001b[39m x[\u001b[38;5;241m3\u001b[39m]\u001b[38;5;241m.\u001b[39mnumpy()))\n",
      "\u001b[1;31mAttributeError\u001b[0m: 'numpy.ndarray' object has no attribute 'numpy'"
     ]
    }
   ],
   "source": [
    "# print(x)\n",
    "\n",
    "print(x[0][:2])\n",
    "print(x[1][:2] + x[2][:2])\n",
    "\n",
    "print(np.linalg.norm(x[0].numpy() - (x[1].numpy()+x[2].numpy())))\n",
    "print(np.linalg.norm(x[0].numpy() - x[3].numpy()))\n"
   ]
  },
  {
   "cell_type": "code",
   "execution_count": null,
   "metadata": {},
   "outputs": [
    {
     "name": "stdout",
     "output_type": "stream",
     "text": [
      "Pairwise dist\n",
      "[[0.         1.36726642 0.89443051 ... 2.07523242 1.59255434 1.29634497]\n",
      " [1.36726642 0.         1.61552905 ... 1.67277451 1.58985879 1.37486895]\n",
      " [0.89443051 1.61552905 0.         ... 1.96871496 1.77511757 1.29498983]\n",
      " ...\n",
      " [2.07523242 1.67277451 1.96871496 ... 0.         1.48843763 2.02022882]\n",
      " [1.59255434 1.58985879 1.77511757 ... 1.48843763 0.         1.5217839 ]\n",
      " [1.29634497 1.37486895 1.29498983 ... 2.02022882 1.5217839  0.        ]]\n",
      "PCA 2 components\n",
      "[[-0.33973208  0.08240659]\n",
      " [ 0.23265597  0.4120434 ]\n",
      " [-0.23746203 -0.31562203]\n",
      " ...\n",
      " [ 0.49611095  0.00302926]\n",
      " [ 0.42138585  0.05581953]\n",
      " [ 0.23588225 -0.01091935]]\n"
     ]
    },
    {
     "ename": "ValueError",
     "evalue": "Per-column arrays must each be 1-dimensional",
     "output_type": "error",
     "traceback": [
      "\u001b[1;31m---------------------------------------------------------------------------\u001b[0m",
      "\u001b[1;31mValueError\u001b[0m                                Traceback (most recent call last)",
      "Cell \u001b[1;32mIn[73], line 60\u001b[0m\n\u001b[0;32m     53\u001b[0m data \u001b[38;5;241m=\u001b[39m {\n\u001b[0;32m     54\u001b[0m     \u001b[38;5;124m'\u001b[39m\u001b[38;5;124mpc1\u001b[39m\u001b[38;5;124m'\u001b[39m: x[:\u001b[38;5;241m0\u001b[39m],\n\u001b[0;32m     55\u001b[0m     \u001b[38;5;124m'\u001b[39m\u001b[38;5;124mpc2\u001b[39m\u001b[38;5;124m'\u001b[39m: x[:,\u001b[38;5;241m1\u001b[39m],\n\u001b[0;32m     56\u001b[0m     \u001b[38;5;124m'\u001b[39m\u001b[38;5;124msparsity\u001b[39m\u001b[38;5;124m'\u001b[39m: y\n\u001b[0;32m     57\u001b[0m }\n\u001b[0;32m     59\u001b[0m \u001b[38;5;66;03m# Create a DataFrame\u001b[39;00m\n\u001b[1;32m---> 60\u001b[0m df \u001b[38;5;241m=\u001b[39m \u001b[43mpd\u001b[49m\u001b[38;5;241;43m.\u001b[39;49m\u001b[43mDataFrame\u001b[49m\u001b[43m(\u001b[49m\u001b[43mdata\u001b[49m\u001b[43m)\u001b[49m\n\u001b[0;32m     62\u001b[0m \u001b[38;5;66;03m# Save the DataFrame to a CSV file\u001b[39;00m\n\u001b[0;32m     63\u001b[0m df\u001b[38;5;241m.\u001b[39mto_csv(\u001b[38;5;124m'\u001b[39m\u001b[38;5;124mdf.csv\u001b[39m\u001b[38;5;124m'\u001b[39m, index\u001b[38;5;241m=\u001b[39m\u001b[38;5;28;01mFalse\u001b[39;00m)\n",
      "File \u001b[1;32mc:\\Users\\aadik\\qspace\\Lib\\site-packages\\pandas\\core\\frame.py:778\u001b[0m, in \u001b[0;36mDataFrame.__init__\u001b[1;34m(self, data, index, columns, dtype, copy)\u001b[0m\n\u001b[0;32m    772\u001b[0m     mgr \u001b[38;5;241m=\u001b[39m \u001b[38;5;28mself\u001b[39m\u001b[38;5;241m.\u001b[39m_init_mgr(\n\u001b[0;32m    773\u001b[0m         data, axes\u001b[38;5;241m=\u001b[39m{\u001b[38;5;124m\"\u001b[39m\u001b[38;5;124mindex\u001b[39m\u001b[38;5;124m\"\u001b[39m: index, \u001b[38;5;124m\"\u001b[39m\u001b[38;5;124mcolumns\u001b[39m\u001b[38;5;124m\"\u001b[39m: columns}, dtype\u001b[38;5;241m=\u001b[39mdtype, copy\u001b[38;5;241m=\u001b[39mcopy\n\u001b[0;32m    774\u001b[0m     )\n\u001b[0;32m    776\u001b[0m \u001b[38;5;28;01melif\u001b[39;00m \u001b[38;5;28misinstance\u001b[39m(data, \u001b[38;5;28mdict\u001b[39m):\n\u001b[0;32m    777\u001b[0m     \u001b[38;5;66;03m# GH#38939 de facto copy defaults to False only in non-dict cases\u001b[39;00m\n\u001b[1;32m--> 778\u001b[0m     mgr \u001b[38;5;241m=\u001b[39m \u001b[43mdict_to_mgr\u001b[49m\u001b[43m(\u001b[49m\u001b[43mdata\u001b[49m\u001b[43m,\u001b[49m\u001b[43m \u001b[49m\u001b[43mindex\u001b[49m\u001b[43m,\u001b[49m\u001b[43m \u001b[49m\u001b[43mcolumns\u001b[49m\u001b[43m,\u001b[49m\u001b[43m \u001b[49m\u001b[43mdtype\u001b[49m\u001b[38;5;241;43m=\u001b[39;49m\u001b[43mdtype\u001b[49m\u001b[43m,\u001b[49m\u001b[43m \u001b[49m\u001b[43mcopy\u001b[49m\u001b[38;5;241;43m=\u001b[39;49m\u001b[43mcopy\u001b[49m\u001b[43m,\u001b[49m\u001b[43m \u001b[49m\u001b[43mtyp\u001b[49m\u001b[38;5;241;43m=\u001b[39;49m\u001b[43mmanager\u001b[49m\u001b[43m)\u001b[49m\n\u001b[0;32m    779\u001b[0m \u001b[38;5;28;01melif\u001b[39;00m \u001b[38;5;28misinstance\u001b[39m(data, ma\u001b[38;5;241m.\u001b[39mMaskedArray):\n\u001b[0;32m    780\u001b[0m     \u001b[38;5;28;01mfrom\u001b[39;00m \u001b[38;5;21;01mnumpy\u001b[39;00m\u001b[38;5;21;01m.\u001b[39;00m\u001b[38;5;21;01mma\u001b[39;00m \u001b[38;5;28;01mimport\u001b[39;00m mrecords\n",
      "File \u001b[1;32mc:\\Users\\aadik\\qspace\\Lib\\site-packages\\pandas\\core\\internals\\construction.py:503\u001b[0m, in \u001b[0;36mdict_to_mgr\u001b[1;34m(data, index, columns, dtype, typ, copy)\u001b[0m\n\u001b[0;32m    499\u001b[0m     \u001b[38;5;28;01melse\u001b[39;00m:\n\u001b[0;32m    500\u001b[0m         \u001b[38;5;66;03m# dtype check to exclude e.g. range objects, scalars\u001b[39;00m\n\u001b[0;32m    501\u001b[0m         arrays \u001b[38;5;241m=\u001b[39m [x\u001b[38;5;241m.\u001b[39mcopy() \u001b[38;5;28;01mif\u001b[39;00m \u001b[38;5;28mhasattr\u001b[39m(x, \u001b[38;5;124m\"\u001b[39m\u001b[38;5;124mdtype\u001b[39m\u001b[38;5;124m\"\u001b[39m) \u001b[38;5;28;01melse\u001b[39;00m x \u001b[38;5;28;01mfor\u001b[39;00m x \u001b[38;5;129;01min\u001b[39;00m arrays]\n\u001b[1;32m--> 503\u001b[0m \u001b[38;5;28;01mreturn\u001b[39;00m \u001b[43marrays_to_mgr\u001b[49m\u001b[43m(\u001b[49m\u001b[43marrays\u001b[49m\u001b[43m,\u001b[49m\u001b[43m \u001b[49m\u001b[43mcolumns\u001b[49m\u001b[43m,\u001b[49m\u001b[43m \u001b[49m\u001b[43mindex\u001b[49m\u001b[43m,\u001b[49m\u001b[43m \u001b[49m\u001b[43mdtype\u001b[49m\u001b[38;5;241;43m=\u001b[39;49m\u001b[43mdtype\u001b[49m\u001b[43m,\u001b[49m\u001b[43m \u001b[49m\u001b[43mtyp\u001b[49m\u001b[38;5;241;43m=\u001b[39;49m\u001b[43mtyp\u001b[49m\u001b[43m,\u001b[49m\u001b[43m \u001b[49m\u001b[43mconsolidate\u001b[49m\u001b[38;5;241;43m=\u001b[39;49m\u001b[43mcopy\u001b[49m\u001b[43m)\u001b[49m\n",
      "File \u001b[1;32mc:\\Users\\aadik\\qspace\\Lib\\site-packages\\pandas\\core\\internals\\construction.py:114\u001b[0m, in \u001b[0;36marrays_to_mgr\u001b[1;34m(arrays, columns, index, dtype, verify_integrity, typ, consolidate)\u001b[0m\n\u001b[0;32m    111\u001b[0m \u001b[38;5;28;01mif\u001b[39;00m verify_integrity:\n\u001b[0;32m    112\u001b[0m     \u001b[38;5;66;03m# figure out the index, if necessary\u001b[39;00m\n\u001b[0;32m    113\u001b[0m     \u001b[38;5;28;01mif\u001b[39;00m index \u001b[38;5;129;01mis\u001b[39;00m \u001b[38;5;28;01mNone\u001b[39;00m:\n\u001b[1;32m--> 114\u001b[0m         index \u001b[38;5;241m=\u001b[39m \u001b[43m_extract_index\u001b[49m\u001b[43m(\u001b[49m\u001b[43marrays\u001b[49m\u001b[43m)\u001b[49m\n\u001b[0;32m    115\u001b[0m     \u001b[38;5;28;01melse\u001b[39;00m:\n\u001b[0;32m    116\u001b[0m         index \u001b[38;5;241m=\u001b[39m ensure_index(index)\n",
      "File \u001b[1;32mc:\\Users\\aadik\\qspace\\Lib\\site-packages\\pandas\\core\\internals\\construction.py:664\u001b[0m, in \u001b[0;36m_extract_index\u001b[1;34m(data)\u001b[0m\n\u001b[0;32m    662\u001b[0m         raw_lengths\u001b[38;5;241m.\u001b[39mappend(\u001b[38;5;28mlen\u001b[39m(val))\n\u001b[0;32m    663\u001b[0m     \u001b[38;5;28;01melif\u001b[39;00m \u001b[38;5;28misinstance\u001b[39m(val, np\u001b[38;5;241m.\u001b[39mndarray) \u001b[38;5;129;01mand\u001b[39;00m val\u001b[38;5;241m.\u001b[39mndim \u001b[38;5;241m>\u001b[39m \u001b[38;5;241m1\u001b[39m:\n\u001b[1;32m--> 664\u001b[0m         \u001b[38;5;28;01mraise\u001b[39;00m \u001b[38;5;167;01mValueError\u001b[39;00m(\u001b[38;5;124m\"\u001b[39m\u001b[38;5;124mPer-column arrays must each be 1-dimensional\u001b[39m\u001b[38;5;124m\"\u001b[39m)\n\u001b[0;32m    666\u001b[0m \u001b[38;5;28;01mif\u001b[39;00m \u001b[38;5;129;01mnot\u001b[39;00m indexes \u001b[38;5;129;01mand\u001b[39;00m \u001b[38;5;129;01mnot\u001b[39;00m raw_lengths:\n\u001b[0;32m    667\u001b[0m     \u001b[38;5;28;01mraise\u001b[39;00m \u001b[38;5;167;01mValueError\u001b[39;00m(\u001b[38;5;124m\"\u001b[39m\u001b[38;5;124mIf using all scalar values, you must pass an index\u001b[39m\u001b[38;5;124m\"\u001b[39m)\n",
      "\u001b[1;31mValueError\u001b[0m: Per-column arrays must each be 1-dimensional"
     ]
    }
   ],
   "source": [
    "# Checking permutation invariance. \n",
    "from qtn_sim import *\n",
    "# circuit1 = QCircuit()\n",
    "# circuit1.addGate(HGate(), [0])\n",
    "# circuit1.addGate(CNOTGate(), [2,5])\n",
    "# circuit1.addGate(CNOTGate(), [0,1])\n",
    "\n",
    "\n",
    "# circuit2 = QCircuit()\n",
    "# # circuit2.addGate(HGate(), [0])\n",
    "# # circuit2.addGate(CNOTGate(), [0,1])\n",
    "# # circuit2.addGate(CNOTGate(), [2,5])\n",
    "\n",
    "# circuits = [circuit1, circuit2]\n",
    "\n",
    "# circuits = createCircuits(numberOfCircuits=5000, \n",
    "#                           numberOfQubits=10, \n",
    "#                           maxCircuitDepth=10, \n",
    "#                           withNonAdjacent=True, \n",
    "#                           filePath=\"circuits.json\")\n",
    "\n",
    "circuits = readCircuits(\"circuits.json\")\n",
    "\n",
    "\n",
    "c = np.array([modelUSE([circ.toString()]).numpy()[0] for circ in circuits])\n",
    "\n",
    "from sklearn.metrics.pairwise import pairwise_distances\n",
    "\n",
    "print(\"Pairwise dist\")\n",
    "print(pairwise_distances(c, metric='sqeuclidean'))\n",
    "\n",
    "from sklearn.decomposition import PCA\n",
    "pca = PCA(n_components=2)\n",
    "x = pca.fit_transform(c)\n",
    "\n",
    "print(\"PCA 2 components\")\n",
    "print(x)\n",
    "\n",
    "def getSparsity(v):\n",
    "    return np.count_nonzero(v)\n",
    "\n",
    "\n",
    "y = []\n",
    "\n",
    "for C in circuits:\n",
    "    q = QuantumMPS(10)\n",
    "    q.applyCircuit(C)\n",
    "    y.append(getSparsity(q.get_state_vector()))\n",
    "\n",
    "\n",
    "import pandas as pd \n",
    "\n",
    "\n"
   ]
  },
  {
   "cell_type": "code",
   "execution_count": 77,
   "metadata": {},
   "outputs": [],
   "source": [
    "data = {\n",
    "    'pc1': x[:,0],\n",
    "    'pc2': x[:,1],\n",
    "    'sparsity': y\n",
    "}\n",
    "# Create a DataFrame\n",
    "df = pd.DataFrame(data)\n",
    "\n",
    "# Save the DataFrame to a CSV file\n",
    "df.to_csv('df.csv', index=False)"
   ]
  }
 ],
 "metadata": {
  "kernelspec": {
   "display_name": "qspace",
   "language": "python",
   "name": "python3"
  },
  "language_info": {
   "codemirror_mode": {
    "name": "ipython",
    "version": 3
   },
   "file_extension": ".py",
   "mimetype": "text/x-python",
   "name": "python",
   "nbconvert_exporter": "python",
   "pygments_lexer": "ipython3",
   "version": "3.12.9"
  }
 },
 "nbformat": 4,
 "nbformat_minor": 2
}
